{
  "nbformat": 4,
  "nbformat_minor": 0,
  "metadata": {
    "colab": {
      "provenance": []
    },
    "kernelspec": {
      "name": "python3",
      "display_name": "Python 3"
    },
    "language_info": {
      "name": "python"
    }
  },
  "cells": [
    {
      "cell_type": "code",
      "execution_count": 22,
      "metadata": {
        "id": "C2JZJkFIv6-1"
      },
      "outputs": [],
      "source": [
        "import numpy as np\n",
        "import pandas as pd\n",
        "import seaborn as sns\n",
        "import matplotlib.pyplot as plt\n"
      ]
    },
    {
      "cell_type": "code",
      "source": [
        "from google.colab import files\n",
        "uploaded=files.upload()"
      ],
      "metadata": {
        "colab": {
          "base_uri": "https://localhost:8080/",
          "height": 73
        },
        "id": "LRAV73SpwZPC",
        "outputId": "e73b2adf-1f40-4a88-ebe6-a5e40eacb20f"
      },
      "execution_count": 1,
      "outputs": [
        {
          "output_type": "display_data",
          "data": {
            "text/plain": [
              "<IPython.core.display.HTML object>"
            ],
            "text/html": [
              "\n",
              "     <input type=\"file\" id=\"files-194a7944-4188-4201-83d6-fef45980ea06\" name=\"files[]\" multiple disabled\n",
              "        style=\"border:none\" />\n",
              "     <output id=\"result-194a7944-4188-4201-83d6-fef45980ea06\">\n",
              "      Upload widget is only available when the cell has been executed in the\n",
              "      current browser session. Please rerun this cell to enable.\n",
              "      </output>\n",
              "      <script>// Copyright 2017 Google LLC\n",
              "//\n",
              "// Licensed under the Apache License, Version 2.0 (the \"License\");\n",
              "// you may not use this file except in compliance with the License.\n",
              "// You may obtain a copy of the License at\n",
              "//\n",
              "//      http://www.apache.org/licenses/LICENSE-2.0\n",
              "//\n",
              "// Unless required by applicable law or agreed to in writing, software\n",
              "// distributed under the License is distributed on an \"AS IS\" BASIS,\n",
              "// WITHOUT WARRANTIES OR CONDITIONS OF ANY KIND, either express or implied.\n",
              "// See the License for the specific language governing permissions and\n",
              "// limitations under the License.\n",
              "\n",
              "/**\n",
              " * @fileoverview Helpers for google.colab Python module.\n",
              " */\n",
              "(function(scope) {\n",
              "function span(text, styleAttributes = {}) {\n",
              "  const element = document.createElement('span');\n",
              "  element.textContent = text;\n",
              "  for (const key of Object.keys(styleAttributes)) {\n",
              "    element.style[key] = styleAttributes[key];\n",
              "  }\n",
              "  return element;\n",
              "}\n",
              "\n",
              "// Max number of bytes which will be uploaded at a time.\n",
              "const MAX_PAYLOAD_SIZE = 100 * 1024;\n",
              "\n",
              "function _uploadFiles(inputId, outputId) {\n",
              "  const steps = uploadFilesStep(inputId, outputId);\n",
              "  const outputElement = document.getElementById(outputId);\n",
              "  // Cache steps on the outputElement to make it available for the next call\n",
              "  // to uploadFilesContinue from Python.\n",
              "  outputElement.steps = steps;\n",
              "\n",
              "  return _uploadFilesContinue(outputId);\n",
              "}\n",
              "\n",
              "// This is roughly an async generator (not supported in the browser yet),\n",
              "// where there are multiple asynchronous steps and the Python side is going\n",
              "// to poll for completion of each step.\n",
              "// This uses a Promise to block the python side on completion of each step,\n",
              "// then passes the result of the previous step as the input to the next step.\n",
              "function _uploadFilesContinue(outputId) {\n",
              "  const outputElement = document.getElementById(outputId);\n",
              "  const steps = outputElement.steps;\n",
              "\n",
              "  const next = steps.next(outputElement.lastPromiseValue);\n",
              "  return Promise.resolve(next.value.promise).then((value) => {\n",
              "    // Cache the last promise value to make it available to the next\n",
              "    // step of the generator.\n",
              "    outputElement.lastPromiseValue = value;\n",
              "    return next.value.response;\n",
              "  });\n",
              "}\n",
              "\n",
              "/**\n",
              " * Generator function which is called between each async step of the upload\n",
              " * process.\n",
              " * @param {string} inputId Element ID of the input file picker element.\n",
              " * @param {string} outputId Element ID of the output display.\n",
              " * @return {!Iterable<!Object>} Iterable of next steps.\n",
              " */\n",
              "function* uploadFilesStep(inputId, outputId) {\n",
              "  const inputElement = document.getElementById(inputId);\n",
              "  inputElement.disabled = false;\n",
              "\n",
              "  const outputElement = document.getElementById(outputId);\n",
              "  outputElement.innerHTML = '';\n",
              "\n",
              "  const pickedPromise = new Promise((resolve) => {\n",
              "    inputElement.addEventListener('change', (e) => {\n",
              "      resolve(e.target.files);\n",
              "    });\n",
              "  });\n",
              "\n",
              "  const cancel = document.createElement('button');\n",
              "  inputElement.parentElement.appendChild(cancel);\n",
              "  cancel.textContent = 'Cancel upload';\n",
              "  const cancelPromise = new Promise((resolve) => {\n",
              "    cancel.onclick = () => {\n",
              "      resolve(null);\n",
              "    };\n",
              "  });\n",
              "\n",
              "  // Wait for the user to pick the files.\n",
              "  const files = yield {\n",
              "    promise: Promise.race([pickedPromise, cancelPromise]),\n",
              "    response: {\n",
              "      action: 'starting',\n",
              "    }\n",
              "  };\n",
              "\n",
              "  cancel.remove();\n",
              "\n",
              "  // Disable the input element since further picks are not allowed.\n",
              "  inputElement.disabled = true;\n",
              "\n",
              "  if (!files) {\n",
              "    return {\n",
              "      response: {\n",
              "        action: 'complete',\n",
              "      }\n",
              "    };\n",
              "  }\n",
              "\n",
              "  for (const file of files) {\n",
              "    const li = document.createElement('li');\n",
              "    li.append(span(file.name, {fontWeight: 'bold'}));\n",
              "    li.append(span(\n",
              "        `(${file.type || 'n/a'}) - ${file.size} bytes, ` +\n",
              "        `last modified: ${\n",
              "            file.lastModifiedDate ? file.lastModifiedDate.toLocaleDateString() :\n",
              "                                    'n/a'} - `));\n",
              "    const percent = span('0% done');\n",
              "    li.appendChild(percent);\n",
              "\n",
              "    outputElement.appendChild(li);\n",
              "\n",
              "    const fileDataPromise = new Promise((resolve) => {\n",
              "      const reader = new FileReader();\n",
              "      reader.onload = (e) => {\n",
              "        resolve(e.target.result);\n",
              "      };\n",
              "      reader.readAsArrayBuffer(file);\n",
              "    });\n",
              "    // Wait for the data to be ready.\n",
              "    let fileData = yield {\n",
              "      promise: fileDataPromise,\n",
              "      response: {\n",
              "        action: 'continue',\n",
              "      }\n",
              "    };\n",
              "\n",
              "    // Use a chunked sending to avoid message size limits. See b/62115660.\n",
              "    let position = 0;\n",
              "    do {\n",
              "      const length = Math.min(fileData.byteLength - position, MAX_PAYLOAD_SIZE);\n",
              "      const chunk = new Uint8Array(fileData, position, length);\n",
              "      position += length;\n",
              "\n",
              "      const base64 = btoa(String.fromCharCode.apply(null, chunk));\n",
              "      yield {\n",
              "        response: {\n",
              "          action: 'append',\n",
              "          file: file.name,\n",
              "          data: base64,\n",
              "        },\n",
              "      };\n",
              "\n",
              "      let percentDone = fileData.byteLength === 0 ?\n",
              "          100 :\n",
              "          Math.round((position / fileData.byteLength) * 100);\n",
              "      percent.textContent = `${percentDone}% done`;\n",
              "\n",
              "    } while (position < fileData.byteLength);\n",
              "  }\n",
              "\n",
              "  // All done.\n",
              "  yield {\n",
              "    response: {\n",
              "      action: 'complete',\n",
              "    }\n",
              "  };\n",
              "}\n",
              "\n",
              "scope.google = scope.google || {};\n",
              "scope.google.colab = scope.google.colab || {};\n",
              "scope.google.colab._files = {\n",
              "  _uploadFiles,\n",
              "  _uploadFilesContinue,\n",
              "};\n",
              "})(self);\n",
              "</script> "
            ]
          },
          "metadata": {}
        },
        {
          "output_type": "stream",
          "name": "stdout",
          "text": [
            "Saving fall.csv to fall.csv\n"
          ]
        }
      ]
    },
    {
      "cell_type": "code",
      "source": [
        "import io\n",
        "df=pd.read_csv(io.BytesIO(uploaded['fall.csv']))"
      ],
      "metadata": {
        "id": "9jIQwSqVwvUd"
      },
      "execution_count": 4,
      "outputs": []
    },
    {
      "cell_type": "code",
      "source": [
        "df.head()"
      ],
      "metadata": {
        "colab": {
          "base_uri": "https://localhost:8080/",
          "height": 206
        },
        "id": "HtUQbihHw5c8",
        "outputId": "bf1cd5b3-c65e-4934-826d-69ed650198d2"
      },
      "execution_count": 5,
      "outputs": [
        {
          "output_type": "execute_result",
          "data": {
            "text/plain": [
              "   year  month  day  tempavg  DPavg  humidity avg  SLPavg  visibilityavg  \\\n",
              "0  2011      2   13       21     13            60    1009              3   \n",
              "1  2011      2   14       21     18            75    1009              3   \n",
              "2  2011      2   15       22     18            75    1010              3   \n",
              "3  2011      2   16       23     21            86    1011              3   \n",
              "4  2011      2   17       23     19            75    1011              3   \n",
              "\n",
              "   windavg  Rainfall  \n",
              "0        5       0.0  \n",
              "1        5       0.0  \n",
              "2       10       0.0  \n",
              "3        8       0.0  \n",
              "4        8       0.0  "
            ],
            "text/html": [
              "\n",
              "\n",
              "  <div id=\"df-fd7dc11b-7fee-41cf-b3b5-8fb39cb7081e\">\n",
              "    <div class=\"colab-df-container\">\n",
              "      <div>\n",
              "<style scoped>\n",
              "    .dataframe tbody tr th:only-of-type {\n",
              "        vertical-align: middle;\n",
              "    }\n",
              "\n",
              "    .dataframe tbody tr th {\n",
              "        vertical-align: top;\n",
              "    }\n",
              "\n",
              "    .dataframe thead th {\n",
              "        text-align: right;\n",
              "    }\n",
              "</style>\n",
              "<table border=\"1\" class=\"dataframe\">\n",
              "  <thead>\n",
              "    <tr style=\"text-align: right;\">\n",
              "      <th></th>\n",
              "      <th>year</th>\n",
              "      <th>month</th>\n",
              "      <th>day</th>\n",
              "      <th>tempavg</th>\n",
              "      <th>DPavg</th>\n",
              "      <th>humidity avg</th>\n",
              "      <th>SLPavg</th>\n",
              "      <th>visibilityavg</th>\n",
              "      <th>windavg</th>\n",
              "      <th>Rainfall</th>\n",
              "    </tr>\n",
              "  </thead>\n",
              "  <tbody>\n",
              "    <tr>\n",
              "      <th>0</th>\n",
              "      <td>2011</td>\n",
              "      <td>2</td>\n",
              "      <td>13</td>\n",
              "      <td>21</td>\n",
              "      <td>13</td>\n",
              "      <td>60</td>\n",
              "      <td>1009</td>\n",
              "      <td>3</td>\n",
              "      <td>5</td>\n",
              "      <td>0.0</td>\n",
              "    </tr>\n",
              "    <tr>\n",
              "      <th>1</th>\n",
              "      <td>2011</td>\n",
              "      <td>2</td>\n",
              "      <td>14</td>\n",
              "      <td>21</td>\n",
              "      <td>18</td>\n",
              "      <td>75</td>\n",
              "      <td>1009</td>\n",
              "      <td>3</td>\n",
              "      <td>5</td>\n",
              "      <td>0.0</td>\n",
              "    </tr>\n",
              "    <tr>\n",
              "      <th>2</th>\n",
              "      <td>2011</td>\n",
              "      <td>2</td>\n",
              "      <td>15</td>\n",
              "      <td>22</td>\n",
              "      <td>18</td>\n",
              "      <td>75</td>\n",
              "      <td>1010</td>\n",
              "      <td>3</td>\n",
              "      <td>10</td>\n",
              "      <td>0.0</td>\n",
              "    </tr>\n",
              "    <tr>\n",
              "      <th>3</th>\n",
              "      <td>2011</td>\n",
              "      <td>2</td>\n",
              "      <td>16</td>\n",
              "      <td>23</td>\n",
              "      <td>21</td>\n",
              "      <td>86</td>\n",
              "      <td>1011</td>\n",
              "      <td>3</td>\n",
              "      <td>8</td>\n",
              "      <td>0.0</td>\n",
              "    </tr>\n",
              "    <tr>\n",
              "      <th>4</th>\n",
              "      <td>2011</td>\n",
              "      <td>2</td>\n",
              "      <td>17</td>\n",
              "      <td>23</td>\n",
              "      <td>19</td>\n",
              "      <td>75</td>\n",
              "      <td>1011</td>\n",
              "      <td>3</td>\n",
              "      <td>8</td>\n",
              "      <td>0.0</td>\n",
              "    </tr>\n",
              "  </tbody>\n",
              "</table>\n",
              "</div>\n",
              "      <button class=\"colab-df-convert\" onclick=\"convertToInteractive('df-fd7dc11b-7fee-41cf-b3b5-8fb39cb7081e')\"\n",
              "              title=\"Convert this dataframe to an interactive table.\"\n",
              "              style=\"display:none;\">\n",
              "\n",
              "  <svg xmlns=\"http://www.w3.org/2000/svg\" height=\"24px\"viewBox=\"0 0 24 24\"\n",
              "       width=\"24px\">\n",
              "    <path d=\"M0 0h24v24H0V0z\" fill=\"none\"/>\n",
              "    <path d=\"M18.56 5.44l.94 2.06.94-2.06 2.06-.94-2.06-.94-.94-2.06-.94 2.06-2.06.94zm-11 1L8.5 8.5l.94-2.06 2.06-.94-2.06-.94L8.5 2.5l-.94 2.06-2.06.94zm10 10l.94 2.06.94-2.06 2.06-.94-2.06-.94-.94-2.06-.94 2.06-2.06.94z\"/><path d=\"M17.41 7.96l-1.37-1.37c-.4-.4-.92-.59-1.43-.59-.52 0-1.04.2-1.43.59L10.3 9.45l-7.72 7.72c-.78.78-.78 2.05 0 2.83L4 21.41c.39.39.9.59 1.41.59.51 0 1.02-.2 1.41-.59l7.78-7.78 2.81-2.81c.8-.78.8-2.07 0-2.86zM5.41 20L4 18.59l7.72-7.72 1.47 1.35L5.41 20z\"/>\n",
              "  </svg>\n",
              "      </button>\n",
              "\n",
              "\n",
              "\n",
              "    <div id=\"df-a57ed78d-3797-451e-aaba-8f19496f7082\">\n",
              "      <button class=\"colab-df-quickchart\" onclick=\"quickchart('df-a57ed78d-3797-451e-aaba-8f19496f7082')\"\n",
              "              title=\"Suggest charts.\"\n",
              "              style=\"display:none;\">\n",
              "\n",
              "<svg xmlns=\"http://www.w3.org/2000/svg\" height=\"24px\"viewBox=\"0 0 24 24\"\n",
              "     width=\"24px\">\n",
              "    <g>\n",
              "        <path d=\"M19 3H5c-1.1 0-2 .9-2 2v14c0 1.1.9 2 2 2h14c1.1 0 2-.9 2-2V5c0-1.1-.9-2-2-2zM9 17H7v-7h2v7zm4 0h-2V7h2v10zm4 0h-2v-4h2v4z\"/>\n",
              "    </g>\n",
              "</svg>\n",
              "      </button>\n",
              "    </div>\n",
              "\n",
              "<style>\n",
              "  .colab-df-quickchart {\n",
              "    background-color: #E8F0FE;\n",
              "    border: none;\n",
              "    border-radius: 50%;\n",
              "    cursor: pointer;\n",
              "    display: none;\n",
              "    fill: #1967D2;\n",
              "    height: 32px;\n",
              "    padding: 0 0 0 0;\n",
              "    width: 32px;\n",
              "  }\n",
              "\n",
              "  .colab-df-quickchart:hover {\n",
              "    background-color: #E2EBFA;\n",
              "    box-shadow: 0px 1px 2px rgba(60, 64, 67, 0.3), 0px 1px 3px 1px rgba(60, 64, 67, 0.15);\n",
              "    fill: #174EA6;\n",
              "  }\n",
              "\n",
              "  [theme=dark] .colab-df-quickchart {\n",
              "    background-color: #3B4455;\n",
              "    fill: #D2E3FC;\n",
              "  }\n",
              "\n",
              "  [theme=dark] .colab-df-quickchart:hover {\n",
              "    background-color: #434B5C;\n",
              "    box-shadow: 0px 1px 3px 1px rgba(0, 0, 0, 0.15);\n",
              "    filter: drop-shadow(0px 1px 2px rgba(0, 0, 0, 0.3));\n",
              "    fill: #FFFFFF;\n",
              "  }\n",
              "</style>\n",
              "\n",
              "    <script>\n",
              "      async function quickchart(key) {\n",
              "        const containerElement = document.querySelector('#' + key);\n",
              "        const charts = await google.colab.kernel.invokeFunction(\n",
              "            'suggestCharts', [key], {});\n",
              "      }\n",
              "    </script>\n",
              "\n",
              "      <script>\n",
              "\n",
              "function displayQuickchartButton(domScope) {\n",
              "  let quickchartButtonEl =\n",
              "    domScope.querySelector('#df-a57ed78d-3797-451e-aaba-8f19496f7082 button.colab-df-quickchart');\n",
              "  quickchartButtonEl.style.display =\n",
              "    google.colab.kernel.accessAllowed ? 'block' : 'none';\n",
              "}\n",
              "\n",
              "        displayQuickchartButton(document);\n",
              "      </script>\n",
              "      <style>\n",
              "    .colab-df-container {\n",
              "      display:flex;\n",
              "      flex-wrap:wrap;\n",
              "      gap: 12px;\n",
              "    }\n",
              "\n",
              "    .colab-df-convert {\n",
              "      background-color: #E8F0FE;\n",
              "      border: none;\n",
              "      border-radius: 50%;\n",
              "      cursor: pointer;\n",
              "      display: none;\n",
              "      fill: #1967D2;\n",
              "      height: 32px;\n",
              "      padding: 0 0 0 0;\n",
              "      width: 32px;\n",
              "    }\n",
              "\n",
              "    .colab-df-convert:hover {\n",
              "      background-color: #E2EBFA;\n",
              "      box-shadow: 0px 1px 2px rgba(60, 64, 67, 0.3), 0px 1px 3px 1px rgba(60, 64, 67, 0.15);\n",
              "      fill: #174EA6;\n",
              "    }\n",
              "\n",
              "    [theme=dark] .colab-df-convert {\n",
              "      background-color: #3B4455;\n",
              "      fill: #D2E3FC;\n",
              "    }\n",
              "\n",
              "    [theme=dark] .colab-df-convert:hover {\n",
              "      background-color: #434B5C;\n",
              "      box-shadow: 0px 1px 3px 1px rgba(0, 0, 0, 0.15);\n",
              "      filter: drop-shadow(0px 1px 2px rgba(0, 0, 0, 0.3));\n",
              "      fill: #FFFFFF;\n",
              "    }\n",
              "  </style>\n",
              "\n",
              "      <script>\n",
              "        const buttonEl =\n",
              "          document.querySelector('#df-fd7dc11b-7fee-41cf-b3b5-8fb39cb7081e button.colab-df-convert');\n",
              "        buttonEl.style.display =\n",
              "          google.colab.kernel.accessAllowed ? 'block' : 'none';\n",
              "\n",
              "        async function convertToInteractive(key) {\n",
              "          const element = document.querySelector('#df-fd7dc11b-7fee-41cf-b3b5-8fb39cb7081e');\n",
              "          const dataTable =\n",
              "            await google.colab.kernel.invokeFunction('convertToInteractive',\n",
              "                                                     [key], {});\n",
              "          if (!dataTable) return;\n",
              "\n",
              "          const docLinkHtml = 'Like what you see? Visit the ' +\n",
              "            '<a target=\"_blank\" href=https://colab.research.google.com/notebooks/data_table.ipynb>data table notebook</a>'\n",
              "            + ' to learn more about interactive tables.';\n",
              "          element.innerHTML = '';\n",
              "          dataTable['output_type'] = 'display_data';\n",
              "          await google.colab.output.renderOutput(dataTable, element);\n",
              "          const docLink = document.createElement('div');\n",
              "          docLink.innerHTML = docLinkHtml;\n",
              "          element.appendChild(docLink);\n",
              "        }\n",
              "      </script>\n",
              "    </div>\n",
              "  </div>\n"
            ]
          },
          "metadata": {},
          "execution_count": 5
        }
      ]
    },
    {
      "cell_type": "code",
      "source": [
        "df.tail()"
      ],
      "metadata": {
        "colab": {
          "base_uri": "https://localhost:8080/",
          "height": 206
        },
        "id": "lWo_7HoLxC-m",
        "outputId": "141b149e-bed9-45ea-88c4-f98348a7caa9"
      },
      "execution_count": 6,
      "outputs": [
        {
          "output_type": "execute_result",
          "data": {
            "text/plain": [
              "      year  month  day  tempavg  DPavg  humidity avg  SLPavg  visibilityavg  \\\n",
              "2357  2017     12   27       23     17            71    1013              4   \n",
              "2358  2017     12   28       22     16            68    1013              4   \n",
              "2359  2017     12   29       23     16            66    1014              4   \n",
              "2360  2017     12   30       23     17            62    1013              4   \n",
              "2361  2017     12   31       24     18            68    1012              4   \n",
              "\n",
              "      windavg  Rainfall  \n",
              "2357        8       0.0  \n",
              "2358        2       0.0  \n",
              "2359        5       0.0  \n",
              "2360        5       0.0  \n",
              "2361        2       0.0  "
            ],
            "text/html": [
              "\n",
              "\n",
              "  <div id=\"df-54704ea8-a8d4-48b3-b2c9-b38161c3507b\">\n",
              "    <div class=\"colab-df-container\">\n",
              "      <div>\n",
              "<style scoped>\n",
              "    .dataframe tbody tr th:only-of-type {\n",
              "        vertical-align: middle;\n",
              "    }\n",
              "\n",
              "    .dataframe tbody tr th {\n",
              "        vertical-align: top;\n",
              "    }\n",
              "\n",
              "    .dataframe thead th {\n",
              "        text-align: right;\n",
              "    }\n",
              "</style>\n",
              "<table border=\"1\" class=\"dataframe\">\n",
              "  <thead>\n",
              "    <tr style=\"text-align: right;\">\n",
              "      <th></th>\n",
              "      <th>year</th>\n",
              "      <th>month</th>\n",
              "      <th>day</th>\n",
              "      <th>tempavg</th>\n",
              "      <th>DPavg</th>\n",
              "      <th>humidity avg</th>\n",
              "      <th>SLPavg</th>\n",
              "      <th>visibilityavg</th>\n",
              "      <th>windavg</th>\n",
              "      <th>Rainfall</th>\n",
              "    </tr>\n",
              "  </thead>\n",
              "  <tbody>\n",
              "    <tr>\n",
              "      <th>2357</th>\n",
              "      <td>2017</td>\n",
              "      <td>12</td>\n",
              "      <td>27</td>\n",
              "      <td>23</td>\n",
              "      <td>17</td>\n",
              "      <td>71</td>\n",
              "      <td>1013</td>\n",
              "      <td>4</td>\n",
              "      <td>8</td>\n",
              "      <td>0.0</td>\n",
              "    </tr>\n",
              "    <tr>\n",
              "      <th>2358</th>\n",
              "      <td>2017</td>\n",
              "      <td>12</td>\n",
              "      <td>28</td>\n",
              "      <td>22</td>\n",
              "      <td>16</td>\n",
              "      <td>68</td>\n",
              "      <td>1013</td>\n",
              "      <td>4</td>\n",
              "      <td>2</td>\n",
              "      <td>0.0</td>\n",
              "    </tr>\n",
              "    <tr>\n",
              "      <th>2359</th>\n",
              "      <td>2017</td>\n",
              "      <td>12</td>\n",
              "      <td>29</td>\n",
              "      <td>23</td>\n",
              "      <td>16</td>\n",
              "      <td>66</td>\n",
              "      <td>1014</td>\n",
              "      <td>4</td>\n",
              "      <td>5</td>\n",
              "      <td>0.0</td>\n",
              "    </tr>\n",
              "    <tr>\n",
              "      <th>2360</th>\n",
              "      <td>2017</td>\n",
              "      <td>12</td>\n",
              "      <td>30</td>\n",
              "      <td>23</td>\n",
              "      <td>17</td>\n",
              "      <td>62</td>\n",
              "      <td>1013</td>\n",
              "      <td>4</td>\n",
              "      <td>5</td>\n",
              "      <td>0.0</td>\n",
              "    </tr>\n",
              "    <tr>\n",
              "      <th>2361</th>\n",
              "      <td>2017</td>\n",
              "      <td>12</td>\n",
              "      <td>31</td>\n",
              "      <td>24</td>\n",
              "      <td>18</td>\n",
              "      <td>68</td>\n",
              "      <td>1012</td>\n",
              "      <td>4</td>\n",
              "      <td>2</td>\n",
              "      <td>0.0</td>\n",
              "    </tr>\n",
              "  </tbody>\n",
              "</table>\n",
              "</div>\n",
              "      <button class=\"colab-df-convert\" onclick=\"convertToInteractive('df-54704ea8-a8d4-48b3-b2c9-b38161c3507b')\"\n",
              "              title=\"Convert this dataframe to an interactive table.\"\n",
              "              style=\"display:none;\">\n",
              "\n",
              "  <svg xmlns=\"http://www.w3.org/2000/svg\" height=\"24px\"viewBox=\"0 0 24 24\"\n",
              "       width=\"24px\">\n",
              "    <path d=\"M0 0h24v24H0V0z\" fill=\"none\"/>\n",
              "    <path d=\"M18.56 5.44l.94 2.06.94-2.06 2.06-.94-2.06-.94-.94-2.06-.94 2.06-2.06.94zm-11 1L8.5 8.5l.94-2.06 2.06-.94-2.06-.94L8.5 2.5l-.94 2.06-2.06.94zm10 10l.94 2.06.94-2.06 2.06-.94-2.06-.94-.94-2.06-.94 2.06-2.06.94z\"/><path d=\"M17.41 7.96l-1.37-1.37c-.4-.4-.92-.59-1.43-.59-.52 0-1.04.2-1.43.59L10.3 9.45l-7.72 7.72c-.78.78-.78 2.05 0 2.83L4 21.41c.39.39.9.59 1.41.59.51 0 1.02-.2 1.41-.59l7.78-7.78 2.81-2.81c.8-.78.8-2.07 0-2.86zM5.41 20L4 18.59l7.72-7.72 1.47 1.35L5.41 20z\"/>\n",
              "  </svg>\n",
              "      </button>\n",
              "\n",
              "\n",
              "\n",
              "    <div id=\"df-c02aa9ca-b07d-4d08-98b1-66ef67e03091\">\n",
              "      <button class=\"colab-df-quickchart\" onclick=\"quickchart('df-c02aa9ca-b07d-4d08-98b1-66ef67e03091')\"\n",
              "              title=\"Suggest charts.\"\n",
              "              style=\"display:none;\">\n",
              "\n",
              "<svg xmlns=\"http://www.w3.org/2000/svg\" height=\"24px\"viewBox=\"0 0 24 24\"\n",
              "     width=\"24px\">\n",
              "    <g>\n",
              "        <path d=\"M19 3H5c-1.1 0-2 .9-2 2v14c0 1.1.9 2 2 2h14c1.1 0 2-.9 2-2V5c0-1.1-.9-2-2-2zM9 17H7v-7h2v7zm4 0h-2V7h2v10zm4 0h-2v-4h2v4z\"/>\n",
              "    </g>\n",
              "</svg>\n",
              "      </button>\n",
              "    </div>\n",
              "\n",
              "<style>\n",
              "  .colab-df-quickchart {\n",
              "    background-color: #E8F0FE;\n",
              "    border: none;\n",
              "    border-radius: 50%;\n",
              "    cursor: pointer;\n",
              "    display: none;\n",
              "    fill: #1967D2;\n",
              "    height: 32px;\n",
              "    padding: 0 0 0 0;\n",
              "    width: 32px;\n",
              "  }\n",
              "\n",
              "  .colab-df-quickchart:hover {\n",
              "    background-color: #E2EBFA;\n",
              "    box-shadow: 0px 1px 2px rgba(60, 64, 67, 0.3), 0px 1px 3px 1px rgba(60, 64, 67, 0.15);\n",
              "    fill: #174EA6;\n",
              "  }\n",
              "\n",
              "  [theme=dark] .colab-df-quickchart {\n",
              "    background-color: #3B4455;\n",
              "    fill: #D2E3FC;\n",
              "  }\n",
              "\n",
              "  [theme=dark] .colab-df-quickchart:hover {\n",
              "    background-color: #434B5C;\n",
              "    box-shadow: 0px 1px 3px 1px rgba(0, 0, 0, 0.15);\n",
              "    filter: drop-shadow(0px 1px 2px rgba(0, 0, 0, 0.3));\n",
              "    fill: #FFFFFF;\n",
              "  }\n",
              "</style>\n",
              "\n",
              "    <script>\n",
              "      async function quickchart(key) {\n",
              "        const containerElement = document.querySelector('#' + key);\n",
              "        const charts = await google.colab.kernel.invokeFunction(\n",
              "            'suggestCharts', [key], {});\n",
              "      }\n",
              "    </script>\n",
              "\n",
              "      <script>\n",
              "\n",
              "function displayQuickchartButton(domScope) {\n",
              "  let quickchartButtonEl =\n",
              "    domScope.querySelector('#df-c02aa9ca-b07d-4d08-98b1-66ef67e03091 button.colab-df-quickchart');\n",
              "  quickchartButtonEl.style.display =\n",
              "    google.colab.kernel.accessAllowed ? 'block' : 'none';\n",
              "}\n",
              "\n",
              "        displayQuickchartButton(document);\n",
              "      </script>\n",
              "      <style>\n",
              "    .colab-df-container {\n",
              "      display:flex;\n",
              "      flex-wrap:wrap;\n",
              "      gap: 12px;\n",
              "    }\n",
              "\n",
              "    .colab-df-convert {\n",
              "      background-color: #E8F0FE;\n",
              "      border: none;\n",
              "      border-radius: 50%;\n",
              "      cursor: pointer;\n",
              "      display: none;\n",
              "      fill: #1967D2;\n",
              "      height: 32px;\n",
              "      padding: 0 0 0 0;\n",
              "      width: 32px;\n",
              "    }\n",
              "\n",
              "    .colab-df-convert:hover {\n",
              "      background-color: #E2EBFA;\n",
              "      box-shadow: 0px 1px 2px rgba(60, 64, 67, 0.3), 0px 1px 3px 1px rgba(60, 64, 67, 0.15);\n",
              "      fill: #174EA6;\n",
              "    }\n",
              "\n",
              "    [theme=dark] .colab-df-convert {\n",
              "      background-color: #3B4455;\n",
              "      fill: #D2E3FC;\n",
              "    }\n",
              "\n",
              "    [theme=dark] .colab-df-convert:hover {\n",
              "      background-color: #434B5C;\n",
              "      box-shadow: 0px 1px 3px 1px rgba(0, 0, 0, 0.15);\n",
              "      filter: drop-shadow(0px 1px 2px rgba(0, 0, 0, 0.3));\n",
              "      fill: #FFFFFF;\n",
              "    }\n",
              "  </style>\n",
              "\n",
              "      <script>\n",
              "        const buttonEl =\n",
              "          document.querySelector('#df-54704ea8-a8d4-48b3-b2c9-b38161c3507b button.colab-df-convert');\n",
              "        buttonEl.style.display =\n",
              "          google.colab.kernel.accessAllowed ? 'block' : 'none';\n",
              "\n",
              "        async function convertToInteractive(key) {\n",
              "          const element = document.querySelector('#df-54704ea8-a8d4-48b3-b2c9-b38161c3507b');\n",
              "          const dataTable =\n",
              "            await google.colab.kernel.invokeFunction('convertToInteractive',\n",
              "                                                     [key], {});\n",
              "          if (!dataTable) return;\n",
              "\n",
              "          const docLinkHtml = 'Like what you see? Visit the ' +\n",
              "            '<a target=\"_blank\" href=https://colab.research.google.com/notebooks/data_table.ipynb>data table notebook</a>'\n",
              "            + ' to learn more about interactive tables.';\n",
              "          element.innerHTML = '';\n",
              "          dataTable['output_type'] = 'display_data';\n",
              "          await google.colab.output.renderOutput(dataTable, element);\n",
              "          const docLink = document.createElement('div');\n",
              "          docLink.innerHTML = docLinkHtml;\n",
              "          element.appendChild(docLink);\n",
              "        }\n",
              "      </script>\n",
              "    </div>\n",
              "  </div>\n"
            ]
          },
          "metadata": {},
          "execution_count": 6
        }
      ]
    },
    {
      "cell_type": "code",
      "source": [
        "df.isnull().sum()"
      ],
      "metadata": {
        "colab": {
          "base_uri": "https://localhost:8080/"
        },
        "id": "OmQMOX94xEPW",
        "outputId": "73e42690-2ab0-4cac-9b55-b9b8c981fcec"
      },
      "execution_count": 7,
      "outputs": [
        {
          "output_type": "execute_result",
          "data": {
            "text/plain": [
              "year             0\n",
              "month            0\n",
              "day              0\n",
              "tempavg          0\n",
              "DPavg            0\n",
              "humidity avg     0\n",
              "SLPavg           0\n",
              "visibilityavg    0\n",
              "windavg          0\n",
              "Rainfall         0\n",
              "dtype: int64"
            ]
          },
          "metadata": {},
          "execution_count": 7
        }
      ]
    },
    {
      "cell_type": "code",
      "source": [
        "x=df.iloc[:,:7].values\n",
        "y=df.iloc[:,7].values\n"
      ],
      "metadata": {
        "id": "NXo3Y6-QxOJg"
      },
      "execution_count": 8,
      "outputs": []
    },
    {
      "cell_type": "code",
      "source": [
        "from sklearn.model_selection import train_test_split\n",
        "x_train, x_test, y_train, y_test = train_test_split(x, y, test_size =0.40,random_state=0)"
      ],
      "metadata": {
        "id": "cG3EmiH_xHAv"
      },
      "execution_count": 40,
      "outputs": []
    },
    {
      "cell_type": "code",
      "source": [],
      "metadata": {
        "id": "sTq21Ad8xZ7e"
      },
      "execution_count": 10,
      "outputs": []
    },
    {
      "cell_type": "code",
      "source": [
        "x_train"
      ],
      "metadata": {
        "colab": {
          "base_uri": "https://localhost:8080/"
        },
        "id": "l0PcTky8xbwE",
        "outputId": "260c72cd-0351-4a45-dfda-5f38df20b555"
      },
      "execution_count": 41,
      "outputs": [
        {
          "output_type": "execute_result",
          "data": {
            "text/plain": [
              "array([[2017,    9,    4, ...,   26,   79, 1005],\n",
              "       [2016,    9,    1, ...,   26,   89, 1005],\n",
              "       [2016,    6,   22, ...,   26,   72, 1005],\n",
              "       ...,\n",
              "       [2013,    8,   16, ...,   26,   86, 1003],\n",
              "       [2013,   10,   27, ...,   22,   93, 1007],\n",
              "       [2016,    1,   23, ...,   14,   73, 1017]])"
            ]
          },
          "metadata": {},
          "execution_count": 41
        }
      ]
    },
    {
      "cell_type": "code",
      "source": [
        "from sklearn.linear_model import LinearRegression"
      ],
      "metadata": {
        "id": "itqjWhEYx421"
      },
      "execution_count": 42,
      "outputs": []
    },
    {
      "cell_type": "code",
      "source": [
        "lm=LinearRegression()"
      ],
      "metadata": {
        "id": "yQlNQn8ix8O0"
      },
      "execution_count": 43,
      "outputs": []
    },
    {
      "cell_type": "code",
      "source": [
        "lm.fit(x_train,y_train)"
      ],
      "metadata": {
        "colab": {
          "base_uri": "https://localhost:8080/",
          "height": 75
        },
        "id": "BmOy4QyoyBgH",
        "outputId": "fb9ef870-a66e-463d-a459-6642e9dc86b8"
      },
      "execution_count": 44,
      "outputs": [
        {
          "output_type": "execute_result",
          "data": {
            "text/plain": [
              "LinearRegression()"
            ],
            "text/html": [
              "<style>#sk-container-id-2 {color: black;background-color: white;}#sk-container-id-2 pre{padding: 0;}#sk-container-id-2 div.sk-toggleable {background-color: white;}#sk-container-id-2 label.sk-toggleable__label {cursor: pointer;display: block;width: 100%;margin-bottom: 0;padding: 0.3em;box-sizing: border-box;text-align: center;}#sk-container-id-2 label.sk-toggleable__label-arrow:before {content: \"▸\";float: left;margin-right: 0.25em;color: #696969;}#sk-container-id-2 label.sk-toggleable__label-arrow:hover:before {color: black;}#sk-container-id-2 div.sk-estimator:hover label.sk-toggleable__label-arrow:before {color: black;}#sk-container-id-2 div.sk-toggleable__content {max-height: 0;max-width: 0;overflow: hidden;text-align: left;background-color: #f0f8ff;}#sk-container-id-2 div.sk-toggleable__content pre {margin: 0.2em;color: black;border-radius: 0.25em;background-color: #f0f8ff;}#sk-container-id-2 input.sk-toggleable__control:checked~div.sk-toggleable__content {max-height: 200px;max-width: 100%;overflow: auto;}#sk-container-id-2 input.sk-toggleable__control:checked~label.sk-toggleable__label-arrow:before {content: \"▾\";}#sk-container-id-2 div.sk-estimator input.sk-toggleable__control:checked~label.sk-toggleable__label {background-color: #d4ebff;}#sk-container-id-2 div.sk-label input.sk-toggleable__control:checked~label.sk-toggleable__label {background-color: #d4ebff;}#sk-container-id-2 input.sk-hidden--visually {border: 0;clip: rect(1px 1px 1px 1px);clip: rect(1px, 1px, 1px, 1px);height: 1px;margin: -1px;overflow: hidden;padding: 0;position: absolute;width: 1px;}#sk-container-id-2 div.sk-estimator {font-family: monospace;background-color: #f0f8ff;border: 1px dotted black;border-radius: 0.25em;box-sizing: border-box;margin-bottom: 0.5em;}#sk-container-id-2 div.sk-estimator:hover {background-color: #d4ebff;}#sk-container-id-2 div.sk-parallel-item::after {content: \"\";width: 100%;border-bottom: 1px solid gray;flex-grow: 1;}#sk-container-id-2 div.sk-label:hover label.sk-toggleable__label {background-color: #d4ebff;}#sk-container-id-2 div.sk-serial::before {content: \"\";position: absolute;border-left: 1px solid gray;box-sizing: border-box;top: 0;bottom: 0;left: 50%;z-index: 0;}#sk-container-id-2 div.sk-serial {display: flex;flex-direction: column;align-items: center;background-color: white;padding-right: 0.2em;padding-left: 0.2em;position: relative;}#sk-container-id-2 div.sk-item {position: relative;z-index: 1;}#sk-container-id-2 div.sk-parallel {display: flex;align-items: stretch;justify-content: center;background-color: white;position: relative;}#sk-container-id-2 div.sk-item::before, #sk-container-id-2 div.sk-parallel-item::before {content: \"\";position: absolute;border-left: 1px solid gray;box-sizing: border-box;top: 0;bottom: 0;left: 50%;z-index: -1;}#sk-container-id-2 div.sk-parallel-item {display: flex;flex-direction: column;z-index: 1;position: relative;background-color: white;}#sk-container-id-2 div.sk-parallel-item:first-child::after {align-self: flex-end;width: 50%;}#sk-container-id-2 div.sk-parallel-item:last-child::after {align-self: flex-start;width: 50%;}#sk-container-id-2 div.sk-parallel-item:only-child::after {width: 0;}#sk-container-id-2 div.sk-dashed-wrapped {border: 1px dashed gray;margin: 0 0.4em 0.5em 0.4em;box-sizing: border-box;padding-bottom: 0.4em;background-color: white;}#sk-container-id-2 div.sk-label label {font-family: monospace;font-weight: bold;display: inline-block;line-height: 1.2em;}#sk-container-id-2 div.sk-label-container {text-align: center;}#sk-container-id-2 div.sk-container {/* jupyter's `normalize.less` sets `[hidden] { display: none; }` but bootstrap.min.css set `[hidden] { display: none !important; }` so we also need the `!important` here to be able to override the default hidden behavior on the sphinx rendered scikit-learn.org. See: https://github.com/scikit-learn/scikit-learn/issues/21755 */display: inline-block !important;position: relative;}#sk-container-id-2 div.sk-text-repr-fallback {display: none;}</style><div id=\"sk-container-id-2\" class=\"sk-top-container\"><div class=\"sk-text-repr-fallback\"><pre>LinearRegression()</pre><b>In a Jupyter environment, please rerun this cell to show the HTML representation or trust the notebook. <br />On GitHub, the HTML representation is unable to render, please try loading this page with nbviewer.org.</b></div><div class=\"sk-container\" hidden><div class=\"sk-item\"><div class=\"sk-estimator sk-toggleable\"><input class=\"sk-toggleable__control sk-hidden--visually\" id=\"sk-estimator-id-2\" type=\"checkbox\" checked><label for=\"sk-estimator-id-2\" class=\"sk-toggleable__label sk-toggleable__label-arrow\">LinearRegression</label><div class=\"sk-toggleable__content\"><pre>LinearRegression()</pre></div></div></div></div></div>"
            ]
          },
          "metadata": {},
          "execution_count": 44
        }
      ]
    },
    {
      "cell_type": "code",
      "source": [
        "lm.coef_"
      ],
      "metadata": {
        "colab": {
          "base_uri": "https://localhost:8080/"
        },
        "id": "9Ja9239NyFCV",
        "outputId": "713c807c-4d2c-42ba-e56c-a3d8d799c312"
      },
      "execution_count": 45,
      "outputs": [
        {
          "output_type": "execute_result",
          "data": {
            "text/plain": [
              "array([-0.09040698,  0.02308844, -0.0034898 ,  0.01511225,  0.17921475,\n",
              "       -0.05821404, -0.05168779])"
            ]
          },
          "metadata": {},
          "execution_count": 45
        }
      ]
    },
    {
      "cell_type": "code",
      "source": [
        "lm.predict(x_test)"
      ],
      "metadata": {
        "colab": {
          "base_uri": "https://localhost:8080/"
        },
        "id": "PyntHlrSyJCs",
        "outputId": "6b689f76-2744-4d25-de43-2da5ce4281ae"
      },
      "execution_count": 46,
      "outputs": [
        {
          "output_type": "execute_result",
          "data": {
            "text/plain": [
              "array([4.5914888 , 3.02673381, 3.39596588, 3.32120273, 4.33860448,\n",
              "       3.44239562, 2.87040312, 4.30307023, 4.98251596, 5.28265159,\n",
              "       4.55236927, 4.63752045, 4.29690578, 4.09656051, 4.95645741,\n",
              "       3.56451352, 4.52271525, 3.89270598, 5.19306381, 4.36040748,\n",
              "       3.07713514, 4.51361697, 4.84497111, 3.85960745, 4.9663238 ,\n",
              "       2.49637989, 3.48411265, 3.40305809, 5.4317823 , 4.33268029,\n",
              "       3.08363981, 4.33659016, 3.9931892 , 5.29301475, 4.3809091 ,\n",
              "       3.04846405, 5.15441577, 3.7025834 , 5.16990094, 3.94416955,\n",
              "       4.92952262, 3.22130807, 4.86642044, 2.65948636, 4.13451128,\n",
              "       3.87570633, 3.30032021, 5.55316565, 4.88806875, 5.24835098,\n",
              "       4.75215752, 5.10128199, 4.7977122 , 4.76197685, 5.3161238 ,\n",
              "       3.88115141, 2.99337176, 4.18139592, 5.17654488, 4.70618968,\n",
              "       3.43131164, 4.36776727, 2.03351732, 3.30419707, 5.40522394,\n",
              "       4.51826816, 3.24447603, 3.24972201, 5.49913367, 5.37632071,\n",
              "       5.04389268, 4.13806324, 4.68639057, 4.63170237, 5.62782224,\n",
              "       4.15551634, 3.53054976, 5.11560436, 4.38670394, 2.96900903,\n",
              "       5.12347644, 3.11646373, 2.68494711, 5.01207952, 5.69480262,\n",
              "       5.34693235, 5.03540156, 5.13018374, 5.49234014, 5.1535651 ,\n",
              "       4.06544374, 4.98040264, 4.45163786, 5.260715  , 4.27254842,\n",
              "       4.74689238, 2.85929195, 5.15425749, 4.38974485, 4.80754671,\n",
              "       4.76326884, 5.10185196, 3.99822454, 4.50997085, 5.22065544,\n",
              "       4.5311064 , 4.58484223, 3.18649962, 4.25643646, 4.77536977,\n",
              "       4.8155543 , 2.67808881, 5.14326241, 4.88529669, 5.37341148,\n",
              "       5.64464776, 5.54023682, 3.98450598, 4.59879007, 4.76432005,\n",
              "       4.78313013, 5.44259604, 5.03015741, 4.74967623, 3.96246067,\n",
              "       3.69527855, 4.11108403, 4.41128438, 5.10536237, 4.27722639,\n",
              "       4.64341978, 4.96815601, 4.21967202, 4.79216291, 5.46872877,\n",
              "       4.89864912, 5.31699482, 4.36211395, 3.37911369, 4.35620264,\n",
              "       5.01433723, 5.36151234, 4.55493922, 4.59831495, 2.39483928,\n",
              "       5.08706761, 4.84024205, 4.00340628, 4.27545957, 4.55430229,\n",
              "       4.12881696, 4.87610939, 2.88904277, 5.03474929, 3.78949011,\n",
              "       4.05192254, 5.14803878, 4.36499111, 4.74299401, 4.70872117,\n",
              "       4.04060029, 5.37020303, 3.40268909, 4.43527651, 4.49915981,\n",
              "       4.41775501, 4.93657028, 4.93178151, 4.77587227, 5.41594732,\n",
              "       4.74395774, 4.10259821, 4.68441683, 4.48660936, 4.98679167,\n",
              "       4.31796289, 4.8539857 , 5.53057518, 4.33599707, 4.07415891,\n",
              "       4.00257931, 5.74216116, 4.91557856, 5.13848976, 3.88253973,\n",
              "       4.4650169 , 3.35404606, 4.54588696, 5.45600481, 5.51274636,\n",
              "       5.16450299, 4.54634124, 4.88430889, 5.15121662, 4.13630625,\n",
              "       5.16389826, 5.73606837, 4.03033055, 4.67333694, 3.60117369,\n",
              "       4.34750839, 4.36883533, 4.57807055, 4.73614915, 3.72316368,\n",
              "       5.74889318, 3.2866513 , 4.70438804, 2.72186729, 3.24643637,\n",
              "       4.74154589, 4.95794583, 4.0704762 , 4.55258237, 4.43761072,\n",
              "       4.7138551 , 4.27853342, 4.85484531, 4.67968236, 4.03244968,\n",
              "       4.69581609, 3.4979392 , 3.5194066 , 4.28762724, 4.85974386,\n",
              "       4.49320094, 5.13270797, 4.13619342, 4.09114488, 4.18408565,\n",
              "       5.42114244, 4.55802687, 4.20140639, 4.97855121, 5.35422845,\n",
              "       5.46593868, 2.82963152, 2.77996082, 4.92406206, 3.81248681,\n",
              "       5.46244888, 4.39498561, 5.25324109, 5.68821567, 5.59711892,\n",
              "       5.06315441, 3.08824593, 3.84278185, 5.23306862, 2.96497624,\n",
              "       5.49171948, 4.84425026, 4.9079252 , 4.41596335, 3.0524659 ,\n",
              "       4.88506388, 3.44082859, 4.92715126, 5.24007795, 4.79703775,\n",
              "       5.22170542, 5.60233273, 4.48056403, 3.56227765, 4.07640789,\n",
              "       4.08282999, 5.37184588, 2.57921471, 5.29163221, 5.34103385,\n",
              "       5.58415323, 2.24695605, 4.38460791, 3.12523176, 4.80452242,\n",
              "       4.93711378, 4.89601138, 4.15070439, 5.24100525, 5.13640476,\n",
              "       4.76100973, 5.1774746 , 5.29648165, 5.40417587, 5.7038663 ,\n",
              "       4.59381134, 4.11795435, 4.16696589, 3.92992262, 5.07777278,\n",
              "       3.61990141, 4.53031064, 3.44144529, 3.73937443, 4.04538442,\n",
              "       4.80206997, 2.6526968 , 3.1636889 , 3.86991124, 3.39476408,\n",
              "       4.86088375, 5.62326765, 3.81191082, 4.96831204, 5.00147243,\n",
              "       4.80877235, 5.01082893, 3.85300062, 3.09122018, 4.5306402 ,\n",
              "       5.70531743, 3.85768106, 4.9593788 , 2.73792469, 3.75268089,\n",
              "       4.70831878, 5.06763378, 4.90382133, 5.28522851, 3.27097538,\n",
              "       4.70550874, 4.9419298 , 5.60097308, 4.60016479, 5.29346809,\n",
              "       4.44909964, 5.06726797, 4.19429359, 4.38020599, 4.57066373,\n",
              "       4.07658449, 4.43046811, 3.70005569, 5.27963571, 4.80727491,\n",
              "       3.8958706 , 2.89434377, 4.8701288 , 4.03815482, 5.21539089,\n",
              "       4.67859042, 5.46005197, 5.64654682, 3.69748286, 4.60510684,\n",
              "       4.19587243, 4.54203367, 3.76731935, 4.45608842, 4.86879479,\n",
              "       4.63975194, 5.43643996, 5.05740631, 5.56433475, 1.8849806 ,\n",
              "       3.79040449, 2.54959125, 4.30319779, 3.83496846, 4.53917364,\n",
              "       3.23909017, 5.23705993, 4.74274061, 4.04338068, 3.40743153,\n",
              "       5.19975428, 4.80906873, 3.7668332 , 4.04334082, 4.3447601 ,\n",
              "       5.72850246, 4.45544813, 3.23362587, 3.55582655, 3.29729158,\n",
              "       5.01140457, 4.77421996, 2.83059561, 4.91673648, 3.42832604,\n",
              "       5.41016182, 5.35248689, 5.71882209, 4.91932354, 5.14552097,\n",
              "       2.93198271, 5.38981457, 5.06155732, 5.28429312, 4.85885334,\n",
              "       5.07848397, 5.36849194, 4.29255566, 5.31294005, 3.01935943,\n",
              "       3.01422835, 4.29151669, 5.11139268, 4.89138629, 2.57708474,\n",
              "       4.50143658, 5.37284854, 4.48239006, 4.36348802, 4.10781779,\n",
              "       2.21488291, 3.21201606, 4.76385146, 4.49484728, 4.68847768,\n",
              "       4.00738522, 4.9764308 , 5.38815679, 3.59667888, 4.07671477,\n",
              "       5.6694059 , 3.45863269, 4.97520682, 4.37213   , 4.81200955,\n",
              "       3.24717027, 2.09611733, 3.50563452, 5.22005975, 5.03479295,\n",
              "       5.12924653, 3.55647387, 3.46088527, 4.91847964, 2.74781276,\n",
              "       4.03782078, 2.26944248, 4.83640571, 2.63670654, 5.18499258,\n",
              "       3.88466958, 3.44599812, 4.70206271, 5.2245787 , 3.3921712 ,\n",
              "       4.80290071, 5.6267653 , 4.84159726, 5.67213472, 4.37473446,\n",
              "       4.43224005, 3.73390394, 5.0254617 , 4.02918166, 4.67584657,\n",
              "       5.40728227, 4.50099303, 3.66362611, 4.15643728, 4.93525196,\n",
              "       5.4660486 , 4.22795994, 2.78957559, 5.15378611, 5.18154155,\n",
              "       4.89702805, 5.15333295, 3.99642673, 2.09539637, 4.5930975 ,\n",
              "       4.53633458, 4.64353302, 4.94947313, 4.8747935 , 3.77896158,\n",
              "       4.2378359 , 4.64226202, 5.23013496, 5.4551053 , 4.96248286,\n",
              "       3.74445326, 2.67218485, 4.26427541, 4.98133653, 4.16646763,\n",
              "       4.00326331, 4.74068397, 4.75760728, 5.19297458, 3.75157262,\n",
              "       4.22311051, 5.49393644, 3.03828864, 2.78861974, 4.01165651,\n",
              "       5.31737114, 5.00300141, 5.10396246, 3.91408331, 5.07461924,\n",
              "       3.61751157, 5.49916212, 4.86438763, 4.98772509, 4.19948274,\n",
              "       4.41999871, 3.36082271, 5.49920463, 3.55383595, 5.10228134,\n",
              "       4.59017954, 4.97219214, 5.10790322, 4.79460453, 4.8247054 ,\n",
              "       3.40632042, 4.15966084, 3.5218777 , 4.75580108, 5.20390726,\n",
              "       5.68024546, 5.22083545, 4.67433941, 5.10774156, 3.48959431,\n",
              "       4.96743358, 4.0855819 , 5.8454307 , 4.87177349, 4.40548086,\n",
              "       5.23392955, 5.29352838, 5.09202498, 3.9299808 , 3.9921245 ,\n",
              "       4.89982288, 5.01326784, 5.21209625, 5.19318625, 4.6268413 ,\n",
              "       3.67162786, 5.56067482, 4.47597954, 5.23739783, 5.15430461,\n",
              "       4.63880347, 4.64644493, 5.20485647, 4.40489838, 5.41603768,\n",
              "       2.7649188 , 4.69217334, 5.00350071, 4.07960053, 5.21571287,\n",
              "       4.32540434, 4.1481139 , 4.21012797, 4.88594456, 2.998923  ,\n",
              "       4.55691304, 4.15418277, 4.60734611, 3.17086882, 5.32812942,\n",
              "       3.78751608, 5.25277908, 3.82419539, 4.24438286, 4.09761463,\n",
              "       3.48129774, 4.91858914, 4.35790792, 4.23451377, 4.86678585,\n",
              "       5.17663977, 3.64885647, 5.08002936, 3.18857958, 5.14007753,\n",
              "       4.41833908, 3.71605883, 5.05537733, 3.93648892, 5.07510916,\n",
              "       2.96258823, 4.95935518, 5.6962451 , 4.81394743, 5.32917966,\n",
              "       4.61118315, 4.9629176 , 4.99699689, 4.80118836, 4.67709672,\n",
              "       4.55267422, 4.19188515, 4.05606687, 3.48466201, 4.12903001,\n",
              "       4.76173939, 5.15292404, 3.91889516, 5.09542066, 4.49006936,\n",
              "       5.20855278, 4.9627656 , 3.40353186, 4.50066897, 4.79166547,\n",
              "       4.17036296, 5.6054117 , 4.90135716, 4.70115701, 3.70382035,\n",
              "       3.43512076, 4.78102225, 3.35997656, 5.30038439, 4.18292645,\n",
              "       2.94506286, 4.42182036, 4.28858746, 5.29614257, 5.70390993,\n",
              "       4.30021725, 4.93600768, 3.10427855, 5.41247929, 4.8416424 ,\n",
              "       5.47300021, 3.10693537, 4.12065055, 5.28067074, 3.13813593,\n",
              "       3.49925294, 4.80825094, 2.67110881, 2.60240275, 4.89874085,\n",
              "       5.52912524, 4.9045796 , 3.76041693, 3.30810182, 4.6469464 ,\n",
              "       5.25750327, 5.50250823, 5.35965346, 4.39157362, 4.73732921,\n",
              "       5.70694639, 5.39209889, 3.21100426, 3.10954717, 5.30472336,\n",
              "       2.03441349, 4.79119214, 4.83410192, 4.05621165, 5.23472166,\n",
              "       5.31133534, 5.14481074, 1.87475253, 4.99212343, 5.05738545,\n",
              "       4.83639301, 4.22594224, 4.33869958, 5.00527301, 4.57756502,\n",
              "       5.11430645, 4.41650891, 4.11851067, 4.59246802, 4.57704392,\n",
              "       3.47165477, 5.32701687, 4.64881801, 4.70136287, 5.24086888,\n",
              "       5.61214818, 3.76512945, 4.29286353, 3.60063787, 4.58191477,\n",
              "       4.67667882, 3.90395954, 4.813674  , 5.442315  , 4.925277  ,\n",
              "       3.08662645, 5.10319212, 4.96452824, 5.2130989 , 5.1528174 ,\n",
              "       5.00180382, 4.37360863, 5.20377365, 4.91523619, 3.29428434,\n",
              "       4.85464629, 2.65611676, 3.08766016, 4.97805431, 4.06008407,\n",
              "       4.52561961, 3.54800879, 4.77270796, 4.65480134, 4.46253699,\n",
              "       3.49369838, 4.61979863, 5.20515697, 5.22673139, 4.68382509,\n",
              "       5.3270617 , 4.0414943 , 3.76287758, 4.01458533, 4.83085848,\n",
              "       5.05351576, 4.85112266, 3.63026832, 4.53443754, 3.73842341,\n",
              "       4.96662305, 4.63898894, 3.23157437, 4.17086243, 4.23985733,\n",
              "       5.15118898, 3.87161319, 5.41953419, 3.76037668, 4.36258526,\n",
              "       4.11188978, 3.75652905, 4.43385713, 4.76566337, 4.70204947,\n",
              "       3.89896074, 5.42321619, 3.74844395, 4.27946413, 3.70097587,\n",
              "       3.60668057, 5.41391536, 4.25754216, 4.74523682, 5.39164659,\n",
              "       4.37897131, 4.90892736, 4.32724976, 5.22369189, 4.27686891,\n",
              "       2.58128208, 3.7779052 , 5.08420011, 4.65776333, 4.61017081,\n",
              "       5.12470885, 5.03229559, 2.65625003, 4.60538181, 3.99848853,\n",
              "       2.83994527, 5.07861957, 5.26283086, 4.49754782, 2.48689681,\n",
              "       4.84472544, 4.36159006, 5.30881385, 5.04802998, 4.18827555,\n",
              "       3.90459128, 5.14311351, 5.45031412, 4.01125183, 4.56883454,\n",
              "       4.87300591, 2.86371003, 5.04300323, 3.95427535, 4.74638347,\n",
              "       4.96459708, 4.88138328, 5.02569482, 5.36401132, 4.86566901,\n",
              "       3.18518152, 4.25457479, 4.79221207, 3.34405532, 3.22664627,\n",
              "       5.20086573, 4.37875793, 4.29061762, 3.49410591, 4.82172234,\n",
              "       3.07597987, 4.26536717, 3.31946176, 4.78220568, 3.25631284,\n",
              "       3.96370975, 4.21684261, 4.88931854, 4.09308605, 5.37451836,\n",
              "       5.62926052, 4.04163671, 4.24471928, 4.88949507, 3.62704662,\n",
              "       5.25473685, 4.21923655, 4.1021242 , 5.16103574, 4.75475853,\n",
              "       3.12364775, 4.28983033, 4.12558818, 4.89485346, 2.4117782 ,\n",
              "       3.44951765, 3.71789597, 4.63217422, 5.35157729, 2.17749215,\n",
              "       2.60367252, 4.16326978, 4.98027641, 4.79334657, 4.79325886,\n",
              "       3.84715758, 5.1735901 , 3.79265569, 4.45673726, 4.40449952,\n",
              "       3.86348446, 2.92193078, 4.28289403, 5.39994041, 3.12892046,\n",
              "       5.28258089, 4.7995497 , 5.33538013, 5.01989513, 3.252676  ,\n",
              "       4.41338821, 5.45869284, 3.71045477, 5.17335301, 5.24999925,\n",
              "       5.62433244, 2.57070731, 4.92375472, 5.41953605, 4.99940369,\n",
              "       5.16540782, 3.56949582, 3.38586479, 3.12775827, 5.18669408,\n",
              "       2.86099624, 3.89710965, 5.77573475, 4.8810787 , 3.13477571,\n",
              "       5.40953987, 3.65128262, 3.8236083 , 3.29869909, 4.08441956,\n",
              "       5.09801398, 5.42084066, 4.83341973, 4.44172943, 4.68655817,\n",
              "       1.9370269 , 2.75933022, 2.94579088, 4.64184879, 5.82656757,\n",
              "       4.93722588, 5.24653702, 3.77064848, 4.73664324, 5.71614006,\n",
              "       3.27638148, 4.02342419, 2.75493966, 3.17665144, 5.03917799,\n",
              "       4.90393841, 4.17194526, 4.51984143, 4.88079154, 3.90808108,\n",
              "       3.63269277, 5.21776327, 5.21107944, 4.69946115, 4.38452482,\n",
              "       4.07414947, 4.66166858, 4.43817596, 3.08124089, 4.30106906,\n",
              "       4.98476281, 4.11237518, 3.83914205, 5.20364683, 3.9001651 ,\n",
              "       4.85247823, 3.80921786, 4.38533512, 3.65087567, 4.29015755,\n",
              "       2.71617135, 5.30630085, 4.39546334, 5.08919251, 5.44537246,\n",
              "       5.2388931 , 4.70254579, 5.069464  , 4.68322411, 4.69485306,\n",
              "       3.69067005, 4.01944836, 4.17455866, 4.94928075, 5.38175215,\n",
              "       4.06461603, 4.69347284, 3.30977246, 3.32146455, 4.3787413 ,\n",
              "       4.61292694, 5.66779424, 4.24394842, 5.10382118, 4.67678684,\n",
              "       3.56425235, 3.31393104, 4.76110866, 3.93900393, 5.34860218])"
            ]
          },
          "metadata": {},
          "execution_count": 46
        }
      ]
    },
    {
      "cell_type": "code",
      "source": [
        "y_predict=lm.predict(x_test)\n",
        "plt.xlabel('y_test')\n",
        "plt.ylabel('y_predicted')\n",
        "plt.scatter(y_test,y_predict)"
      ],
      "metadata": {
        "colab": {
          "base_uri": "https://localhost:8080/",
          "height": 468
        },
        "id": "GIsJJaJ-yK6Q",
        "outputId": "ed6e570b-9478-44dc-b6cd-3ba6bd3efbbc"
      },
      "execution_count": 47,
      "outputs": [
        {
          "output_type": "execute_result",
          "data": {
            "text/plain": [
              "<matplotlib.collections.PathCollection at 0x7ef86c3d0d60>"
            ]
          },
          "metadata": {},
          "execution_count": 47
        },
        {
          "output_type": "display_data",
          "data": {
            "text/plain": [
              "<Figure size 640x480 with 1 Axes>"
            ],
            "image/png": "[encoded data removed]"
          },
          "metadata": {}
        }
      ]
    },
    {
      "cell_type": "code",
      "source": [
        "df.corr()"
      ],
      "metadata": {
        "colab": {
          "base_uri": "https://localhost:8080/",
          "height": 363
        },
        "id": "LftenakrzbN4",
        "outputId": "88c7638d-9847-44f3-e5d6-c0c24b63c9af"
      },
      "execution_count": 48,
      "outputs": [
        {
          "output_type": "execute_result",
          "data": {
            "text/plain": [
              "                   year     month       day   tempavg     DPavg  humidity avg  \\\n",
              "year           1.000000  0.038898 -0.004969  0.090248  0.044044     -0.091357   \n",
              "month          0.038898  1.000000  0.013457  0.116979  0.239600      0.318244   \n",
              "day           -0.004969  0.013457  1.000000 -0.028085 -0.007882      0.021505   \n",
              "tempavg        0.090248  0.116979 -0.028085  1.000000  0.863829      0.340977   \n",
              "DPavg          0.044044  0.239600 -0.007882  0.863829  1.000000      0.731021   \n",
              "humidity avg  -0.091357  0.318244  0.021505  0.340977  0.731021      1.000000   \n",
              "SLPavg         0.085676 -0.102448  0.007108 -0.674395 -0.758224     -0.574413   \n",
              "visibilityavg -0.082626  0.100189 -0.044876  0.704721  0.604098      0.173502   \n",
              "windavg        0.110007 -0.219532  0.015099  0.233133  0.213889      0.101864   \n",
              "Rainfall       0.041735  0.034934  0.005593  0.070369  0.177919      0.297830   \n",
              "\n",
              "                 SLPavg  visibilityavg   windavg  Rainfall  \n",
              "year           0.085676      -0.082626  0.110007  0.041735  \n",
              "month         -0.102448       0.100189 -0.219532  0.034934  \n",
              "day            0.007108      -0.044876  0.015099  0.005593  \n",
              "tempavg       -0.674395       0.704721  0.233133  0.070369  \n",
              "DPavg         -0.758224       0.604098  0.213889  0.177919  \n",
              "humidity avg  -0.574413       0.173502  0.101864  0.297830  \n",
              "SLPavg         1.000000      -0.557946 -0.378632 -0.242161  \n",
              "visibilityavg -0.557946       1.000000  0.244426 -0.022533  \n",
              "windavg       -0.378632       0.244426  1.000000  0.164852  \n",
              "Rainfall      -0.242161      -0.022533  0.164852  1.000000  "
            ],
            "text/html": [
              "\n",
              "\n",
              "  <div id=\"df-9d1b6deb-094a-43ec-9391-d94650d84b50\">\n",
              "    <div class=\"colab-df-container\">\n",
              "      <div>\n",
              "<style scoped>\n",
              "    .dataframe tbody tr th:only-of-type {\n",
              "        vertical-align: middle;\n",
              "    }\n",
              "\n",
              "    .dataframe tbody tr th {\n",
              "        vertical-align: top;\n",
              "    }\n",
              "\n",
              "    .dataframe thead th {\n",
              "        text-align: right;\n",
              "    }\n",
              "</style>\n",
              "<table border=\"1\" class=\"dataframe\">\n",
              "  <thead>\n",
              "    <tr style=\"text-align: right;\">\n",
              "      <th></th>\n",
              "      <th>year</th>\n",
              "      <th>month</th>\n",
              "      <th>day</th>\n",
              "      <th>tempavg</th>\n",
              "      <th>DPavg</th>\n",
              "      <th>humidity avg</th>\n",
              "      <th>SLPavg</th>\n",
              "      <th>visibilityavg</th>\n",
              "      <th>windavg</th>\n",
              "      <th>Rainfall</th>\n",
              "    </tr>\n",
              "  </thead>\n",
              "  <tbody>\n",
              "    <tr>\n",
              "      <th>year</th>\n",
              "      <td>1.000000</td>\n",
              "      <td>0.038898</td>\n",
              "      <td>-0.004969</td>\n",
              "      <td>0.090248</td>\n",
              "      <td>0.044044</td>\n",
              "      <td>-0.091357</td>\n",
              "      <td>0.085676</td>\n",
              "      <td>-0.082626</td>\n",
              "      <td>0.110007</td>\n",
              "      <td>0.041735</td>\n",
              "    </tr>\n",
              "    <tr>\n",
              "      <th>month</th>\n",
              "      <td>0.038898</td>\n",
              "      <td>1.000000</td>\n",
              "      <td>0.013457</td>\n",
              "      <td>0.116979</td>\n",
              "      <td>0.239600</td>\n",
              "      <td>0.318244</td>\n",
              "      <td>-0.102448</td>\n",
              "      <td>0.100189</td>\n",
              "      <td>-0.219532</td>\n",
              "      <td>0.034934</td>\n",
              "    </tr>\n",
              "    <tr>\n",
              "      <th>day</th>\n",
              "      <td>-0.004969</td>\n",
              "      <td>0.013457</td>\n",
              "      <td>1.000000</td>\n",
              "      <td>-0.028085</td>\n",
              "      <td>-0.007882</td>\n",
              "      <td>0.021505</td>\n",
              "      <td>0.007108</td>\n",
              "      <td>-0.044876</td>\n",
              "      <td>0.015099</td>\n",
              "      <td>0.005593</td>\n",
              "    </tr>\n",
              "    <tr>\n",
              "      <th>tempavg</th>\n",
              "      <td>0.090248</td>\n",
              "      <td>0.116979</td>\n",
              "      <td>-0.028085</td>\n",
              "      <td>1.000000</td>\n",
              "      <td>0.863829</td>\n",
              "      <td>0.340977</td>\n",
              "      <td>-0.674395</td>\n",
              "      <td>0.704721</td>\n",
              "      <td>0.233133</td>\n",
              "      <td>0.070369</td>\n",
              "    </tr>\n",
              "    <tr>\n",
              "      <th>DPavg</th>\n",
              "      <td>0.044044</td>\n",
              "      <td>0.239600</td>\n",
              "      <td>-0.007882</td>\n",
              "      <td>0.863829</td>\n",
              "      <td>1.000000</td>\n",
              "      <td>0.731021</td>\n",
              "      <td>-0.758224</td>\n",
              "      <td>0.604098</td>\n",
              "      <td>0.213889</td>\n",
              "      <td>0.177919</td>\n",
              "    </tr>\n",
              "    <tr>\n",
              "      <th>humidity avg</th>\n",
              "      <td>-0.091357</td>\n",
              "      <td>0.318244</td>\n",
              "      <td>0.021505</td>\n",
              "      <td>0.340977</td>\n",
              "      <td>0.731021</td>\n",
              "      <td>1.000000</td>\n",
              "      <td>-0.574413</td>\n",
              "      <td>0.173502</td>\n",
              "      <td>0.101864</td>\n",
              "      <td>0.297830</td>\n",
              "    </tr>\n",
              "    <tr>\n",
              "      <th>SLPavg</th>\n",
              "      <td>0.085676</td>\n",
              "      <td>-0.102448</td>\n",
              "      <td>0.007108</td>\n",
              "      <td>-0.674395</td>\n",
              "      <td>-0.758224</td>\n",
              "      <td>-0.574413</td>\n",
              "      <td>1.000000</td>\n",
              "      <td>-0.557946</td>\n",
              "      <td>-0.378632</td>\n",
              "      <td>-0.242161</td>\n",
              "    </tr>\n",
              "    <tr>\n",
              "      <th>visibilityavg</th>\n",
              "      <td>-0.082626</td>\n",
              "      <td>0.100189</td>\n",
              "      <td>-0.044876</td>\n",
              "      <td>0.704721</td>\n",
              "      <td>0.604098</td>\n",
              "      <td>0.173502</td>\n",
              "      <td>-0.557946</td>\n",
              "      <td>1.000000</td>\n",
              "      <td>0.244426</td>\n",
              "      <td>-0.022533</td>\n",
              "    </tr>\n",
              "    <tr>\n",
              "      <th>windavg</th>\n",
              "      <td>0.110007</td>\n",
              "      <td>-0.219532</td>\n",
              "      <td>0.015099</td>\n",
              "      <td>0.233133</td>\n",
              "      <td>0.213889</td>\n",
              "      <td>0.101864</td>\n",
              "      <td>-0.378632</td>\n",
              "      <td>0.244426</td>\n",
              "      <td>1.000000</td>\n",
              "      <td>0.164852</td>\n",
              "    </tr>\n",
              "    <tr>\n",
              "      <th>Rainfall</th>\n",
              "      <td>0.041735</td>\n",
              "      <td>0.034934</td>\n",
              "      <td>0.005593</td>\n",
              "      <td>0.070369</td>\n",
              "      <td>0.177919</td>\n",
              "      <td>0.297830</td>\n",
              "      <td>-0.242161</td>\n",
              "      <td>-0.022533</td>\n",
              "      <td>0.164852</td>\n",
              "      <td>1.000000</td>\n",
              "    </tr>\n",
              "  </tbody>\n",
              "</table>\n",
              "</div>\n",
              "      <button class=\"colab-df-convert\" onclick=\"convertToInteractive('df-9d1b6deb-094a-43ec-9391-d94650d84b50')\"\n",
              "              title=\"Convert this dataframe to an interactive table.\"\n",
              "              style=\"display:none;\">\n",
              "\n",
              "  <svg xmlns=\"http://www.w3.org/2000/svg\" height=\"24px\"viewBox=\"0 0 24 24\"\n",
              "       width=\"24px\">\n",
              "    <path d=\"M0 0h24v24H0V0z\" fill=\"none\"/>\n",
              "    <path d=\"M18.56 5.44l.94 2.06.94-2.06 2.06-.94-2.06-.94-.94-2.06-.94 2.06-2.06.94zm-11 1L8.5 8.5l.94-2.06 2.06-.94-2.06-.94L8.5 2.5l-.94 2.06-2.06.94zm10 10l.94 2.06.94-2.06 2.06-.94-2.06-.94-.94-2.06-.94 2.06-2.06.94z\"/><path d=\"M17.41 7.96l-1.37-1.37c-.4-.4-.92-.59-1.43-.59-.52 0-1.04.2-1.43.59L10.3 9.45l-7.72 7.72c-.78.78-.78 2.05 0 2.83L4 21.41c.39.39.9.59 1.41.59.51 0 1.02-.2 1.41-.59l7.78-7.78 2.81-2.81c.8-.78.8-2.07 0-2.86zM5.41 20L4 18.59l7.72-7.72 1.47 1.35L5.41 20z\"/>\n",
              "  </svg>\n",
              "      </button>\n",
              "\n",
              "\n",
              "\n",
              "    <div id=\"df-49b90ef0-6685-4b2c-a18f-df58131d2f43\">\n",
              "      <button class=\"colab-df-quickchart\" onclick=\"quickchart('df-49b90ef0-6685-4b2c-a18f-df58131d2f43')\"\n",
              "              title=\"Suggest charts.\"\n",
              "              style=\"display:none;\">\n",
              "\n",
              "<svg xmlns=\"http://www.w3.org/2000/svg\" height=\"24px\"viewBox=\"0 0 24 24\"\n",
              "     width=\"24px\">\n",
              "    <g>\n",
              "        <path d=\"M19 3H5c-1.1 0-2 .9-2 2v14c0 1.1.9 2 2 2h14c1.1 0 2-.9 2-2V5c0-1.1-.9-2-2-2zM9 17H7v-7h2v7zm4 0h-2V7h2v10zm4 0h-2v-4h2v4z\"/>\n",
              "    </g>\n",
              "</svg>\n",
              "      </button>\n",
              "    </div>\n",
              "\n",
              "<style>\n",
              "  .colab-df-quickchart {\n",
              "    background-color: #E8F0FE;\n",
              "    border: none;\n",
              "    border-radius: 50%;\n",
              "    cursor: pointer;\n",
              "    display: none;\n",
              "    fill: #1967D2;\n",
              "    height: 32px;\n",
              "    padding: 0 0 0 0;\n",
              "    width: 32px;\n",
              "  }\n",
              "\n",
              "  .colab-df-quickchart:hover {\n",
              "    background-color: #E2EBFA;\n",
              "    box-shadow: 0px 1px 2px rgba(60, 64, 67, 0.3), 0px 1px 3px 1px rgba(60, 64, 67, 0.15);\n",
              "    fill: #174EA6;\n",
              "  }\n",
              "\n",
              "  [theme=dark] .colab-df-quickchart {\n",
              "    background-color: #3B4455;\n",
              "    fill: #D2E3FC;\n",
              "  }\n",
              "\n",
              "  [theme=dark] .colab-df-quickchart:hover {\n",
              "    background-color: #434B5C;\n",
              "    box-shadow: 0px 1px 3px 1px rgba(0, 0, 0, 0.15);\n",
              "    filter: drop-shadow(0px 1px 2px rgba(0, 0, 0, 0.3));\n",
              "    fill: #FFFFFF;\n",
              "  }\n",
              "</style>\n",
              "\n",
              "    <script>\n",
              "      async function quickchart(key) {\n",
              "        const containerElement = document.querySelector('#' + key);\n",
              "        const charts = await google.colab.kernel.invokeFunction(\n",
              "            'suggestCharts', [key], {});\n",
              "      }\n",
              "    </script>\n",
              "\n",
              "      <script>\n",
              "\n",
              "function displayQuickchartButton(domScope) {\n",
              "  let quickchartButtonEl =\n",
              "    domScope.querySelector('#df-49b90ef0-6685-4b2c-a18f-df58131d2f43 button.colab-df-quickchart');\n",
              "  quickchartButtonEl.style.display =\n",
              "    google.colab.kernel.accessAllowed ? 'block' : 'none';\n",
              "}\n",
              "\n",
              "        displayQuickchartButton(document);\n",
              "      </script>\n",
              "      <style>\n",
              "    .colab-df-container {\n",
              "      display:flex;\n",
              "      flex-wrap:wrap;\n",
              "      gap: 12px;\n",
              "    }\n",
              "\n",
              "    .colab-df-convert {\n",
              "      background-color: #E8F0FE;\n",
              "      border: none;\n",
              "      border-radius: 50%;\n",
              "      cursor: pointer;\n",
              "      display: none;\n",
              "      fill: #1967D2;\n",
              "      height: 32px;\n",
              "      padding: 0 0 0 0;\n",
              "      width: 32px;\n",
              "    }\n",
              "\n",
              "    .colab-df-convert:hover {\n",
              "      background-color: #E2EBFA;\n",
              "      box-shadow: 0px 1px 2px rgba(60, 64, 67, 0.3), 0px 1px 3px 1px rgba(60, 64, 67, 0.15);\n",
              "      fill: #174EA6;\n",
              "    }\n",
              "\n",
              "    [theme=dark] .colab-df-convert {\n",
              "      background-color: #3B4455;\n",
              "      fill: #D2E3FC;\n",
              "    }\n",
              "\n",
              "    [theme=dark] .colab-df-convert:hover {\n",
              "      background-color: #434B5C;\n",
              "      box-shadow: 0px 1px 3px 1px rgba(0, 0, 0, 0.15);\n",
              "      filter: drop-shadow(0px 1px 2px rgba(0, 0, 0, 0.3));\n",
              "      fill: #FFFFFF;\n",
              "    }\n",
              "  </style>\n",
              "\n",
              "      <script>\n",
              "        const buttonEl =\n",
              "          document.querySelector('#df-9d1b6deb-094a-43ec-9391-d94650d84b50 button.colab-df-convert');\n",
              "        buttonEl.style.display =\n",
              "          google.colab.kernel.accessAllowed ? 'block' : 'none';\n",
              "\n",
              "        async function convertToInteractive(key) {\n",
              "          const element = document.querySelector('#df-9d1b6deb-094a-43ec-9391-d94650d84b50');\n",
              "          const dataTable =\n",
              "            await google.colab.kernel.invokeFunction('convertToInteractive',\n",
              "                                                     [key], {});\n",
              "          if (!dataTable) return;\n",
              "\n",
              "          const docLinkHtml = 'Like what you see? Visit the ' +\n",
              "            '<a target=\"_blank\" href=https://colab.research.google.com/notebooks/data_table.ipynb>data table notebook</a>'\n",
              "            + ' to learn more about interactive tables.';\n",
              "          element.innerHTML = '';\n",
              "          dataTable['output_type'] = 'display_data';\n",
              "          await google.colab.output.renderOutput(dataTable, element);\n",
              "          const docLink = document.createElement('div');\n",
              "          docLink.innerHTML = docLinkHtml;\n",
              "          element.appendChild(docLink);\n",
              "        }\n",
              "      </script>\n",
              "    </div>\n",
              "  </div>\n"
            ]
          },
          "metadata": {},
          "execution_count": 48
        }
      ]
    },
    {
      "cell_type": "code",
      "source": [
        "import seaborn as sns\n",
        "sns.heatmap(df.corr(),annot=True)"
      ],
      "metadata": {
        "colab": {
          "base_uri": "https://localhost:8080/",
          "height": 530
        },
        "id": "6SAQdtPFzgFv",
        "outputId": "2fc0c37e-cdcf-4e06-d789-11633d330b94"
      },
      "execution_count": 49,
      "outputs": [
        {
          "output_type": "execute_result",
          "data": {
            "text/plain": [
              "<Axes: >"
            ]
          },
          "metadata": {},
          "execution_count": 49
        },
        {
          "output_type": "display_data",
          "data": {
            "text/plain": [
              "<Figure size 640x480 with 2 Axes>"
            ],
            "image/png": "[encoded data removed]"
          },
          "metadata": {}
        }
      ]
    },
    {
      "cell_type": "code",
      "source": [
        "from sklearn.metrics import mean_squared_error,mean_absolute_error,r2_score"
      ],
      "metadata": {
        "id": "Jyx-vpQ8yOgr"
      },
      "execution_count": 50,
      "outputs": []
    },
    {
      "cell_type": "code",
      "source": [
        "r2_score(y_test,y_predict)"
      ],
      "metadata": {
        "colab": {
          "base_uri": "https://localhost:8080/"
        },
        "id": "4ig-t9BJyZQx",
        "outputId": "6971d752-3470-4f80-f591-4b80eeca852d"
      },
      "execution_count": 51,
      "outputs": [
        {
          "output_type": "execute_result",
          "data": {
            "text/plain": [
              "0.5916127264796457"
            ]
          },
          "metadata": {},
          "execution_count": 51
        }
      ]
    },
    {
      "cell_type": "code",
      "source": [
        "mean_squared_error(y_test,y_predict)"
      ],
      "metadata": {
        "colab": {
          "base_uri": "https://localhost:8080/"
        },
        "id": "hQC7QdNiyePF",
        "outputId": "bcc2c1db-4256-4d04-97ef-52f19ccdae4f"
      },
      "execution_count": 52,
      "outputs": [
        {
          "output_type": "execute_result",
          "data": {
            "text/plain": [
              "0.48645931374618034"
            ]
          },
          "metadata": {},
          "execution_count": 52
        }
      ]
    },
    {
      "cell_type": "code",
      "source": [
        "mean_absolute_error(y_test,y_predict)"
      ],
      "metadata": {
        "colab": {
          "base_uri": "https://localhost:8080/"
        },
        "id": "IP-GHA05yhTJ",
        "outputId": "fc2d1d45-cb95-4fe0-df3e-c17eb42f79c4"
      },
      "execution_count": 53,
      "outputs": [
        {
          "output_type": "execute_result",
          "data": {
            "text/plain": [
              "0.5514212210876498"
            ]
          },
          "metadata": {},
          "execution_count": 53
        }
      ]
    },
    {
      "cell_type": "code",
      "source": [
        "lm.score(x_test,y_test)"
      ],
      "metadata": {
        "colab": {
          "base_uri": "https://localhost:8080/"
        },
        "id": "SDxoWIefyn-F",
        "outputId": "1f748836-bd0a-4ab8-cd12-e94babd62046"
      },
      "execution_count": 54,
      "outputs": [
        {
          "output_type": "execute_result",
          "data": {
            "text/plain": [
              "0.5916127264796457"
            ]
          },
          "metadata": {},
          "execution_count": 54
        }
      ]
    },
    {
      "cell_type": "markdown",
      "source": [
        "## Logistic_Regression"
      ],
      "metadata": {
        "id": "Pv2uzNqHy6Zb"
      }
    },
    {
      "cell_type": "code",
      "source": [
        "from sklearn.model_selection import train_test_split\n",
        "from sklearn.linear_model import LogisticRegression\n",
        "from sklearn.metrics import accuracy_score"
      ],
      "metadata": {
        "id": "eI7op8tEy-t8"
      },
      "execution_count": 69,
      "outputs": []
    },
    {
      "cell_type": "code",
      "source": [
        "x_train, x_test, y_train, y_test = train_test_split(x, y, test_size= 0.2,  random_state=2)"
      ],
      "metadata": {
        "id": "1NpHFpuI18az"
      },
      "execution_count": 122,
      "outputs": []
    },
    {
      "cell_type": "code",
      "source": [
        "df.count()"
      ],
      "metadata": {
        "colab": {
          "base_uri": "https://localhost:8080/"
        },
        "id": "y2t42rkl4WCl",
        "outputId": "3c02e770-f3a2-4a2d-a4bb-ab93f4594f4b"
      },
      "execution_count": 130,
      "outputs": [
        {
          "output_type": "execute_result",
          "data": {
            "text/plain": [
              "year             2362\n",
              "month            2362\n",
              "day              2362\n",
              "tempavg          2362\n",
              "DPavg            2362\n",
              "humidity avg     2362\n",
              "SLPavg           2362\n",
              "visibilityavg    2362\n",
              "windavg          2362\n",
              "Rainfall         2362\n",
              "dtype: int64"
            ]
          },
          "metadata": {},
          "execution_count": 130
        }
      ]
    },
    {
      "cell_type": "code",
      "source": [
        "print(x.shape, x_train.shape, x_test.shape)"
      ],
      "metadata": {
        "colab": {
          "base_uri": "https://localhost:8080/"
        },
        "id": "mEPbbp0j2S2j",
        "outputId": "73b35bd2-c9e2-4ce1-8c64-efeb113807ad"
      },
      "execution_count": 123,
      "outputs": [
        {
          "output_type": "stream",
          "name": "stdout",
          "text": [
            "(2362, 7) (118, 7) (2244, 7)\n"
          ]
        }
      ]
    },
    {
      "cell_type": "code",
      "source": [
        "model = LogisticRegression()"
      ],
      "metadata": {
        "id": "DvddwYSE2YCn"
      },
      "execution_count": 124,
      "outputs": []
    },
    {
      "cell_type": "code",
      "source": [
        "# training the Logistic Regression Model with Training Data\n",
        "model.fit(x_train, y_train)"
      ],
      "metadata": {
        "colab": {
          "base_uri": "https://localhost:8080/",
          "height": 214
        },
        "id": "ks3q2jWj2bXI",
        "outputId": "ce59ae96-abe7-49eb-ac94-d164c626cb6a"
      },
      "execution_count": 125,
      "outputs": [
        {
          "output_type": "stream",
          "name": "stderr",
          "text": [
            "/usr/local/lib/python3.10/dist-packages/sklearn/linear_model/_logistic.py:458: ConvergenceWarning: lbfgs failed to converge (status=1):\n",
            "STOP: TOTAL NO. of ITERATIONS REACHED LIMIT.\n",
            "\n",
            "Increase the number of iterations (max_iter) or scale the data as shown in:\n",
            "    https://scikit-learn.org/stable/modules/preprocessing.html\n",
            "Please also refer to the documentation for alternative solver options:\n",
            "    https://scikit-learn.org/stable/modules/linear_model.html#logistic-regression\n",
            "  n_iter_i = _check_optimize_result(\n"
          ]
        },
        {
          "output_type": "execute_result",
          "data": {
            "text/plain": [
              "LogisticRegression()"
            ],
            "text/html": [
              "<style>#sk-container-id-9 {color: black;background-color: white;}#sk-container-id-9 pre{padding: 0;}#sk-container-id-9 div.sk-toggleable {background-color: white;}#sk-container-id-9 label.sk-toggleable__label {cursor: pointer;display: block;width: 100%;margin-bottom: 0;padding: 0.3em;box-sizing: border-box;text-align: center;}#sk-container-id-9 label.sk-toggleable__label-arrow:before {content: \"▸\";float: left;margin-right: 0.25em;color: #696969;}#sk-container-id-9 label.sk-toggleable__label-arrow:hover:before {color: black;}#sk-container-id-9 div.sk-estimator:hover label.sk-toggleable__label-arrow:before {color: black;}#sk-container-id-9 div.sk-toggleable__content {max-height: 0;max-width: 0;overflow: hidden;text-align: left;background-color: #f0f8ff;}#sk-container-id-9 div.sk-toggleable__content pre {margin: 0.2em;color: black;border-radius: 0.25em;background-color: #f0f8ff;}#sk-container-id-9 input.sk-toggleable__control:checked~div.sk-toggleable__content {max-height: 200px;max-width: 100%;overflow: auto;}#sk-container-id-9 input.sk-toggleable__control:checked~label.sk-toggleable__label-arrow:before {content: \"▾\";}#sk-container-id-9 div.sk-estimator input.sk-toggleable__control:checked~label.sk-toggleable__label {background-color: #d4ebff;}#sk-container-id-9 div.sk-label input.sk-toggleable__control:checked~label.sk-toggleable__label {background-color: #d4ebff;}#sk-container-id-9 input.sk-hidden--visually {border: 0;clip: rect(1px 1px 1px 1px);clip: rect(1px, 1px, 1px, 1px);height: 1px;margin: -1px;overflow: hidden;padding: 0;position: absolute;width: 1px;}#sk-container-id-9 div.sk-estimator {font-family: monospace;background-color: #f0f8ff;border: 1px dotted black;border-radius: 0.25em;box-sizing: border-box;margin-bottom: 0.5em;}#sk-container-id-9 div.sk-estimator:hover {background-color: #d4ebff;}#sk-container-id-9 div.sk-parallel-item::after {content: \"\";width: 100%;border-bottom: 1px solid gray;flex-grow: 1;}#sk-container-id-9 div.sk-label:hover label.sk-toggleable__label {background-color: #d4ebff;}#sk-container-id-9 div.sk-serial::before {content: \"\";position: absolute;border-left: 1px solid gray;box-sizing: border-box;top: 0;bottom: 0;left: 50%;z-index: 0;}#sk-container-id-9 div.sk-serial {display: flex;flex-direction: column;align-items: center;background-color: white;padding-right: 0.2em;padding-left: 0.2em;position: relative;}#sk-container-id-9 div.sk-item {position: relative;z-index: 1;}#sk-container-id-9 div.sk-parallel {display: flex;align-items: stretch;justify-content: center;background-color: white;position: relative;}#sk-container-id-9 div.sk-item::before, #sk-container-id-9 div.sk-parallel-item::before {content: \"\";position: absolute;border-left: 1px solid gray;box-sizing: border-box;top: 0;bottom: 0;left: 50%;z-index: -1;}#sk-container-id-9 div.sk-parallel-item {display: flex;flex-direction: column;z-index: 1;position: relative;background-color: white;}#sk-container-id-9 div.sk-parallel-item:first-child::after {align-self: flex-end;width: 50%;}#sk-container-id-9 div.sk-parallel-item:last-child::after {align-self: flex-start;width: 50%;}#sk-container-id-9 div.sk-parallel-item:only-child::after {width: 0;}#sk-container-id-9 div.sk-dashed-wrapped {border: 1px dashed gray;margin: 0 0.4em 0.5em 0.4em;box-sizing: border-box;padding-bottom: 0.4em;background-color: white;}#sk-container-id-9 div.sk-label label {font-family: monospace;font-weight: bold;display: inline-block;line-height: 1.2em;}#sk-container-id-9 div.sk-label-container {text-align: center;}#sk-container-id-9 div.sk-container {/* jupyter's `normalize.less` sets `[hidden] { display: none; }` but bootstrap.min.css set `[hidden] { display: none !important; }` so we also need the `!important` here to be able to override the default hidden behavior on the sphinx rendered scikit-learn.org. See: https://github.com/scikit-learn/scikit-learn/issues/21755 */display: inline-block !important;position: relative;}#sk-container-id-9 div.sk-text-repr-fallback {display: none;}</style><div id=\"sk-container-id-9\" class=\"sk-top-container\"><div class=\"sk-text-repr-fallback\"><pre>LogisticRegression()</pre><b>In a Jupyter environment, please rerun this cell to show the HTML representation or trust the notebook. <br />On GitHub, the HTML representation is unable to render, please try loading this page with nbviewer.org.</b></div><div class=\"sk-container\" hidden><div class=\"sk-item\"><div class=\"sk-estimator sk-toggleable\"><input class=\"sk-toggleable__control sk-hidden--visually\" id=\"sk-estimator-id-9\" type=\"checkbox\" checked><label for=\"sk-estimator-id-9\" class=\"sk-toggleable__label sk-toggleable__label-arrow\">LogisticRegression</label><div class=\"sk-toggleable__content\"><pre>LogisticRegression()</pre></div></div></div></div></div>"
            ]
          },
          "metadata": {},
          "execution_count": 125
        }
      ]
    },
    {
      "cell_type": "code",
      "source": [
        "X_train_prediction = model.predict(x_train)\n",
        "training_data_accuracy = accuracy_score(X_train_prediction, y_train)"
      ],
      "metadata": {
        "id": "aOdyeKpo2f27"
      },
      "execution_count": 126,
      "outputs": []
    },
    {
      "cell_type": "code",
      "source": [
        "print('Accuracy on Training data : ', training_data_accuracy)"
      ],
      "metadata": {
        "colab": {
          "base_uri": "https://localhost:8080/"
        },
        "id": "cEQOJalU2m0H",
        "outputId": "6df9373a-8942-4328-ea7d-1be16dd96a44"
      },
      "execution_count": 127,
      "outputs": [
        {
          "output_type": "stream",
          "name": "stdout",
          "text": [
            "Accuracy on Training data :  0.559322033898305\n"
          ]
        }
      ]
    },
    {
      "cell_type": "code",
      "source": [
        "\n",
        "X_test_prediction = model.predict(x_test)\n",
        "test_data_accuracy = accuracy_score(X_test_prediction, y_test)"
      ],
      "metadata": {
        "id": "5cLGaAQq2qNm"
      },
      "execution_count": 128,
      "outputs": []
    },
    {
      "cell_type": "code",
      "source": [
        "print('Accuracy score on Test Data : ', test_data_accuracy)"
      ],
      "metadata": {
        "colab": {
          "base_uri": "https://localhost:8080/"
        },
        "id": "uVXEkt6m2sWQ",
        "outputId": "d901e578-bcc3-4df5-fcc1-bb5e02e99a5a"
      },
      "execution_count": 129,
      "outputs": [
        {
          "output_type": "stream",
          "name": "stdout",
          "text": [
            "Accuracy score on Test Data :  0.4790552584670232\n"
          ]
        }
      ]
    }
  ]
}